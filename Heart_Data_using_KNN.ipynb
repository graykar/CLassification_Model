{
 "cells": [
  {
   "cell_type": "code",
   "execution_count": 1,
   "metadata": {},
   "outputs": [
    {
     "name": "stderr",
     "output_type": "stream",
     "text": [
      "C:\\Users\\graykar\\Documents\\Annaconda3\\lib\\site-packages\\sklearn\\ensemble\\weight_boosting.py:29: DeprecationWarning: numpy.core.umath_tests is an internal NumPy module and should not be imported. It will be removed in a future NumPy release.\n",
      "  from numpy.core.umath_tests import inner1d\n"
     ]
    }
   ],
   "source": [
    "import pandas as pd\n",
    "import numpy as np\n",
    "import matplotlib.pyplot as plt\n",
    "import seaborn as sns\n",
    "from sklearn.ensemble import IsolationForest\n",
    "from sklearn.linear_model import SGDClassifier\n",
    "from sklearn.model_selection import train_test_split\n",
    "import scipy.stats as stats\n",
    "import warnings\n",
    "warnings.filterwarnings('ignore')"
   ]
  },
  {
   "cell_type": "code",
   "execution_count": 2,
   "metadata": {},
   "outputs": [],
   "source": [
    "Heart_Data = pd.read_csv(\"C:\\\\Users\\\\graykar\\\\Downloads\\\\Pyhton\\\\Data Files\\\\Heart.csv\")"
   ]
  },
  {
   "cell_type": "code",
   "execution_count": 3,
   "metadata": {},
   "outputs": [
    {
     "data": {
      "text/plain": [
       "((241, 14), (61, 14))"
      ]
     },
     "execution_count": 3,
     "metadata": {},
     "output_type": "execute_result"
    }
   ],
   "source": [
    "Heart_Data.drop_duplicates(inplace=True)\n",
    "X_train, X_test, y_train, y_test = train_test_split( Heart_Data , Heart_Data['target'] , test_size=0.20, random_state=1)\n",
    "X_train.shape ,X_test.shape"
   ]
  },
  {
   "cell_type": "code",
   "execution_count": 4,
   "metadata": {},
   "outputs": [
    {
     "name": "stdout",
     "output_type": "stream",
     "text": [
      "Reject the Null hypothisis for :-> sex\n",
      "Reject the Null hypothisis for :-> cp\n",
      "Accept the Null hypothisis for :-> fbs\n",
      "Accept the Null hypothisis for :-> restecg\n",
      "Reject the Null hypothisis for :-> exang\n",
      "Reject the Null hypothisis for :-> slope\n",
      "Reject the Null hypothisis for :-> ca\n",
      "Reject the Null hypothisis for :-> thal\n"
     ]
    },
    {
     "data": {
      "text/plain": [
       "['fbs', 'restecg']"
      ]
     },
     "execution_count": 4,
     "metadata": {},
     "output_type": "execute_result"
    }
   ],
   "source": [
    "v_drop_col = []\n",
    "for i in X_train.columns:\n",
    "    v_cnt = len(X_train[i].value_counts())\n",
    "    if (v_cnt == 2) & (i != 'target'):\n",
    "        cros_tab = pd.crosstab(X_train[i], X_train.target, margins = True)\n",
    "        chi2_value, p, dof, ex_table = stats.chi2_contingency(cros_tab, correction=False)\n",
    "        if p < 0.05:\n",
    "            print('Reject the Null hypothisis for :->' , i)\n",
    "        else:\n",
    "            print('Accept the Null hypothisis for :->',  i)\n",
    "            v_drop_col.append(i)\n",
    "    elif (v_cnt >2 ) & (v_cnt < 10 ) & (i != 'target'):\n",
    "        cros_tab = pd.crosstab(X_train[i], X_train.target, margins = True)\n",
    "        chi2_value, p, dof, ex_table = stats.chi2_contingency(cros_tab, correction=False)\n",
    "        v_stats_sheet = stats.chi2.ppf(q=0.95, df=dof)\n",
    "        if chi2_value > v_stats_sheet:\n",
    "            print('Reject the Null hypothisis for :->' , i)\n",
    "        else:\n",
    "            print('Accept the Null hypothisis for :->',  i)\n",
    "            v_drop_col.append(i)\n",
    "\n",
    "v_drop_col"
   ]
  },
  {
   "cell_type": "code",
   "execution_count": 5,
   "metadata": {},
   "outputs": [],
   "source": [
    "X_train.drop(v_drop_col,axis=1, inplace=True)"
   ]
  },
  {
   "cell_type": "code",
   "execution_count": 6,
   "metadata": {},
   "outputs": [],
   "source": [
    "train_X = X_train.loc[: , [x for x in X_train.columns if x not in ['target']] ]\n",
    "train_y = X_train['target']"
   ]
  },
  {
   "cell_type": "code",
   "execution_count": 7,
   "metadata": {},
   "outputs": [],
   "source": [
    "from sklearn.preprocessing import MinMaxScaler \n",
    "minMaxScaler = MinMaxScaler()\n",
    "train_X = minMaxScaler.fit_transform(train_X)"
   ]
  },
  {
   "cell_type": "code",
   "execution_count": 18,
   "metadata": {},
   "outputs": [
    {
     "data": {
      "text/plain": [
       "KNeighborsClassifier(algorithm='auto', leaf_size=30, metric='minkowski',\n",
       "           metric_params=None, n_jobs=1, n_neighbors=3, p=2,\n",
       "           weights='uniform')"
      ]
     },
     "execution_count": 18,
     "metadata": {},
     "output_type": "execute_result"
    }
   ],
   "source": [
    "from sklearn.neighbors import KNeighborsClassifier\n",
    "KNN = KNeighborsClassifier(n_neighbors=3)\n",
    "KNN.fit(train_X , train_y)"
   ]
  },
  {
   "cell_type": "code",
   "execution_count": 19,
   "metadata": {},
   "outputs": [
    {
     "data": {
      "text/plain": [
       "array([[ 97,  12],\n",
       "       [ 13, 119]], dtype=int64)"
      ]
     },
     "execution_count": 19,
     "metadata": {},
     "output_type": "execute_result"
    }
   ],
   "source": [
    "from sklearn.metrics import confusion_matrix\n",
    "con_mat = confusion_matrix(train_y, KNN.predict(train_X))\n",
    "con_mat"
   ]
  },
  {
   "cell_type": "code",
   "execution_count": 14,
   "metadata": {},
   "outputs": [
    {
     "data": {
      "text/plain": [
       "array([[0.8125    ],\n",
       "       [0.        ],\n",
       "       [0.66666667],\n",
       "       [0.30232558],\n",
       "       [0.29209622],\n",
       "       [0.33587786],\n",
       "       [0.        ],\n",
       "       [0.24193548],\n",
       "       [0.5       ],\n",
       "       [0.        ],\n",
       "       [0.66666667]])"
      ]
     },
     "execution_count": 14,
     "metadata": {},
     "output_type": "execute_result"
    }
   ],
   "source": [
    "train_X[1].reshape(-1,1)"
   ]
  },
  {
   "cell_type": "code",
   "execution_count": 29,
   "metadata": {},
   "outputs": [],
   "source": [
    "error = []\n",
    "for i in range(1,40):\n",
    "    KNN = KNeighborsClassifier(n_neighbors=i)\n",
    "    KNN.fit(train_X , train_y)\n",
    "    pred_i = KNN.predict(train_X)\n",
    "    error.append(np.mean(pred_i != train_y))"
   ]
  },
  {
   "cell_type": "code",
   "execution_count": null,
   "metadata": {},
   "outputs": [],
   "source": []
  },
  {
   "cell_type": "code",
   "execution_count": 32,
   "metadata": {},
   "outputs": [
    {
     "data": {
      "text/plain": [
       "[<matplotlib.lines.Line2D at 0xe288128>]"
      ]
     },
     "execution_count": 32,
     "metadata": {},
     "output_type": "execute_result"
    },
    {
     "data": {
      "image/png": "[encoded data removed]",
      "text/plain": [
       "<Figure size 432x288 with 1 Axes>"
      ]
     },
     "metadata": {},
     "output_type": "display_data"
    }
   ],
   "source": [
    "plt.plot(range(1,40) , error)"
   ]
  },
  {
   "cell_type": "code",
   "execution_count": null,
   "metadata": {},
   "outputs": [],
   "source": []
  }
 ],
 "metadata": {
  "kernelspec": {
   "display_name": "Python 3",
   "language": "python",
   "name": "python3"
  },
  "language_info": {
   "codemirror_mode": {
    "name": "ipython",
    "version": 3
   },
   "file_extension": ".py",
   "mimetype": "text/x-python",
   "name": "python",
   "nbconvert_exporter": "python",
   "pygments_lexer": "ipython3",
   "version": "3.6.5"
  }
 },
 "nbformat": 4,
 "nbformat_minor": 2
}
